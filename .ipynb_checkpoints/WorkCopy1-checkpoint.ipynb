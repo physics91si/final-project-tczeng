{
 "cells": [
  {
   "cell_type": "code",
   "execution_count": null,
   "metadata": {},
   "outputs": [],
   "source": [
    "import PCAdmix as Adm\n",
    "reload(Adm)"
   ]
  },
  {
   "cell_type": "markdown",
   "metadata": {},
   "source": [
    "## Form of the Quadratic optimisation problem\n",
    "\n",
    "\n",
    "### $\\min ||e||$  \n",
    "### S.T  \n",
    "### -  $Ax + e = b$  \n",
    "### -  $\\sum(x) = 1$  \n",
    "### -  $x \\geq 0$  \n",
    "\n",
    "\n",
    " $A$ is matrix of population coordinates of the source populations  \n",
    " $x$ is vector of population percentages  \n",
    " $e$ is vector of error terms  \n",
    " $b$ is vector of population coordinates of the target population  \n"
   ]
  },
  {
   "cell_type": "markdown",
   "metadata": {},
   "source": [
    "#### Import File"
   ]
  },
  {
   "cell_type": "code",
   "execution_count": null,
   "metadata": {},
   "outputs": [],
   "source": [
    "Data = Adm.use_data(\"Global_25_PCA_pop_averages_scaled.txt\")\n",
    "print(Data)"
   ]
  },
  {
   "cell_type": "code",
   "execution_count": null,
   "metadata": {
    "scrolled": false
   },
   "outputs": [],
   "source": [
    "results = Adm.getAdmix(Data, \n",
    "                       [\"Han\", \"Japanese\", \"Korean\"], \n",
    "                       [\"Han\", \"Japanese\", \"Korean\"],\n",
    "                       print_results = True)\n"
   ]
  },
  {
   "cell_type": "code",
   "execution_count": null,
   "metadata": {},
   "outputs": [],
   "source": [
    "Adm.plot_results(results)"
   ]
  },
  {
   "cell_type": "code",
   "execution_count": null,
   "metadata": {},
   "outputs": [],
   "source": [
    "results = Adm.getAdmix(Data, \n",
    "                       [\"Han\", \"Japanese\", \"Korean\"], \n",
    "                       [\"Naxi\", \"Ami\", \"Ulchi\", \"She\"],\n",
    "                       print_results = True)"
   ]
  },
  {
   "cell_type": "code",
   "execution_count": null,
   "metadata": {},
   "outputs": [],
   "source": [
    "Adm.plot_results(results)"
   ]
  },
  {
   "cell_type": "code",
   "execution_count": null,
   "metadata": {},
   "outputs": [],
   "source": [
    "results = Adm.getAdmix(Data, \n",
    "                       [\"Yakut\", \"Tuvinian\", \"Altaian\", \"Dolgan\",\n",
    "                        \"Oroqen\",\"Hezhen\", \"Evenk\", \"Even\",\"Nivkh\",\n",
    "                        \"Buryat\", \"Mongolian\", \"Mongola\",\"Xibo\",\"Daur\",\"Tu\",\n",
    "                        \"Japanese\", \"Korean\",\n",
    "                        \"Naxi\", \"Yi\",\"Han_NChina\",\"Han\", \"Tujia\", \"Burmese\",\n",
    "                        \"She\", \"Miao\",\n",
    "                        \"Ami\", \"Atayal\",\"Vizayan\", \"Dusun\",\"Batak\",\"Bajo\",\"Malay\",\"Lebbo\", \"Murut\",\n",
    "                        \"Dai\",\"Lahu\",\"Kinh_Vietnam\", \"Thai\", \"Cambodian\",\n",
    "                        \"Kusunda\", \"Tripuri\"], \n",
    "                       [\"Onge\", \"Man_Bac\", \"Nui_Nap_all\", \"Lapita_Tonga\", \"Oakaie1_all\", \n",
    "                        \"Ust_Ida_LN\", \"Clovis\", \"Ulchi\", \"Chamar\", \"Papuan\"],\n",
    "                       print_results = True)"
   ]
  },
  {
   "cell_type": "code",
   "execution_count": null,
   "metadata": {},
   "outputs": [],
   "source": [
    "Adm.plot_results(results)"
   ]
  },
  {
   "cell_type": "code",
   "execution_count": null,
   "metadata": {},
   "outputs": [],
   "source": [
    "Adm.plot_results(results, colors = \"Dark2\")"
   ]
  },
  {
   "cell_type": "code",
   "execution_count": null,
   "metadata": {},
   "outputs": [],
   "source": [
    "results = Adm.getAdmix(Data, \n",
    "                       [\"Yakut\", \"Tuvinian\", \"Altaian\", \"Dolgan\",\n",
    "                        \"Oroqen\",\"Hezhen\", \"Evenk\", \"Even\",\"Nivkh\",\n",
    "                        \"Buryat\", \"Mongolian\", \"Mongola\",\"Xibo\",\"Daur\",\"Tu\",\n",
    "                        \"Japanese\", \"Korean\",\n",
    "                        \"Naxi\", \"Yi\",\"Han_NChina\",\"Han\", \"Tujia\", \"Burmese\",\n",
    "                        \"She\", \"Miao\",\n",
    "                        \"Ami\", \"Atayal\",\"Vizayan\", \"Dusun\",\"Batak\",\"Bajo\",\"Malay\",\"Lebbo\", \"Murut\",\n",
    "                        \"Dai\",\"Lahu\",\"Kinh_Vietnam\", \"Thai\", \"Cambodian\",\n",
    "                        \"Kusunda\", \"Tripuri\"], \n",
    "                       [\"Onge\", \"Man_Bac\", \"Nui_Nap_all\", \"Lapita_Tonga\", \"Oakaie1_all\", \n",
    "                        \"Ust_Ida_LN\", \"Clovis\", \"Ulchi\", \"Chamar\", \"Xiong_Nu\"],\n",
    "                       print_results = True)"
   ]
  },
  {
   "cell_type": "code",
   "execution_count": null,
   "metadata": {},
   "outputs": [],
   "source": [
    "Adm.plot_results(results)"
   ]
  },
  {
   "cell_type": "code",
   "execution_count": null,
   "metadata": {},
   "outputs": [],
   "source": [
    "results = Adm.getAdmix(Data, \n",
    "                       [\"Xiong_Nu\",\n",
    "                       \"Yakut\", \"Tuvinian\", \"Altaian\", \"Dolgan\",\n",
    "                        \"Oroqen\",\"Hezhen\", \"Evenk\", \"Even\",\"Nivkh\",\n",
    "                        \"Buryat\", \"Mongolian\", \"Mongola\",\"Xibo\",\"Daur\",\"Tu\",\n",
    "                        \"Japanese\", \"Korean\",\n",
    "                        \"Naxi\", \"Yi\",\"Han_NChina\",\"Han\", \"Tujia\", \"Burmese\",\n",
    "                        \"She\", \"Miao\",\n",
    "                        \"Ami\", \"Atayal\",\"Vizayan\", \"Dusun\",\"Batak\",\"Bajo\",\"Malay\",\"Lebbo\", \"Murut\",\n",
    "                        \"Dai\",\"Lahu\",\"Kinh_Vietnam\", \"Thai\", \"Cambodian\",\n",
    "                        \"Kusunda\", \"Tripuri\"], \n",
    "                       [\"Naxi\", \"Ami\", \"Ulchi\", \"She\", \"Ust_Ida_LN\"],\n",
    "                       print_results = True)"
   ]
  },
  {
   "cell_type": "code",
   "execution_count": null,
   "metadata": {
    "scrolled": true
   },
   "outputs": [],
   "source": [
    "Adm.plot_results(results)"
   ]
  },
  {
   "cell_type": "code",
   "execution_count": null,
   "metadata": {},
   "outputs": [],
   "source": [
    "results = Adm.getAdmix(Data, \n",
    "                       [\"Xiong_Nu\",\n",
    "                       \"Yakut\", \"Tuvinian\", \"Altaian\", \"Dolgan\",\n",
    "                        \"Oroqen\",\"Hezhen\", \"Evenk\", \"Even\",\n",
    "                        \"Buryat\", \"Mongolian\", \"Mongola\",\"Xibo\",\"Daur\",\"Tu\",\n",
    "                        \"Japanese\", \"Korean\",\n",
    "                        \"Naxi\", \"Yi\",\"Han_NChina\",\"Han\"], \n",
    "                       [\"Naxi\", \"Ami\", \"Ulchi\", \"She\", \"Ust_Ida_LN\", \"Tu\"],\n",
    "                       print_results = True)"
   ]
  },
  {
   "cell_type": "code",
   "execution_count": null,
   "metadata": {},
   "outputs": [],
   "source": [
    "Adm.plot_results(results)"
   ]
  },
  {
   "cell_type": "code",
   "execution_count": null,
   "metadata": {},
   "outputs": [],
   "source": [
    "results = Adm.getAdmix(Data, \n",
    "                       [\"Xiong_Nu\",\n",
    "                       \"Yakut\", \"Tuvinian\", \"Altaian\", \"Dolgan\",\n",
    "                        \"Oroqen\",\"Hezhen\", \"Evenk\", \"Even\",\n",
    "                        \"Buryat\", \"Mongolian\", \"Mongola\",\"Xibo\",\"Daur\",\"Tu\",\n",
    "                        \"Japanese\", \"Korean\",\n",
    "                        \"Naxi\", \"Yi\",\"Han_NChina\",\"Han\"], \n",
    "                       [\"Onge\", \"Man_Bac\", \"Nui_Nap_all\", \"Lapita_Tonga\", \"Oakaie1_all\", \n",
    "                        \"Ust_Ida_LN\", \"Clovis\", \"Ulchi\", \"Chamar\"],\n",
    "                       print_results = True)"
   ]
  },
  {
   "cell_type": "code",
   "execution_count": null,
   "metadata": {},
   "outputs": [],
   "source": [
    "Adm.plot_results(results)"
   ]
  },
  {
   "cell_type": "code",
   "execution_count": null,
   "metadata": {},
   "outputs": [],
   "source": [
    "results = Adm.getAdmix(Data, \n",
    "                       [\"Yakut\", \"Tuvinian\", \"Altaian\", \"Dolgan\",\n",
    "                        \"Oroqen\", \"Evenk\", \"Even\",\n",
    "                        \"Buryat\", \"Mongolian\", \"Mongola\",\"Tu\",\n",
    "                        \"Japanese\", \"Korean\",\n",
    "                        \"Naxi\", \"Yi\",\"Han_NChina\",\"Han\", \"Tujia\", \"Burmese\",\n",
    "                        \"She\", \"Miao\",\n",
    "                        \"Ami\", \"Atayal\",\n",
    "                        \"Kinh_Vietnam\", \"Thai\", \"Cambodian\",\n",
    "                        \"Malay\", \"Dusun\",\n",
    "                        \"Kusunda\", \"Tripuri\"], \n",
    "                       [\"Onge\", \"Clovis\", \"Ulchi\"],\n",
    "                       print_results = True)"
   ]
  },
  {
   "cell_type": "code",
   "execution_count": null,
   "metadata": {
    "scrolled": true
   },
   "outputs": [],
   "source": [
    "Adm.plot_results(results)"
   ]
  },
  {
   "cell_type": "code",
   "execution_count": null,
   "metadata": {},
   "outputs": [],
   "source": [
    "results = Adm.getAdmix(Data, \n",
    "                       [\"Man_Bac\", \"Nui_Nap_all\", \"Lapita_Tonga\", \"Oakaie1_all\", \n",
    "                        \"Ust_Ida_LN\"], \n",
    "                       [\"Onge\", \"Ami\", \"Ulchi\", \"Clovis\", \"Papuan\"],\n",
    "                       print_results = True)"
   ]
  },
  {
   "cell_type": "code",
   "execution_count": null,
   "metadata": {},
   "outputs": [],
   "source": [
    "Adm.plot_results(results)"
   ]
  }
 ],
 "metadata": {
  "kernelspec": {
   "display_name": "Python 2",
   "language": "python",
   "name": "python2"
  },
  "language_info": {
   "codemirror_mode": {
    "name": "ipython",
    "version": 2
   },
   "file_extension": ".py",
   "mimetype": "text/x-python",
   "name": "python",
   "nbconvert_exporter": "python",
   "pygments_lexer": "ipython2",
   "version": "2.7.14"
  }
 },
 "nbformat": 4,
 "nbformat_minor": 2
}
